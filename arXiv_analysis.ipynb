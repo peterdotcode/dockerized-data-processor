{
 "cells": [
  {
   "cell_type": "code",
   "execution_count": 1,
   "metadata": {},
   "outputs": [],
   "source": [
    "%run -i 'setup.py'"
   ]
  },
  {
   "cell_type": "code",
   "execution_count": 38,
   "metadata": {},
   "outputs": [],
   "source": [
    "import sqlite3\n",
    "import pandas as pd\n",
    "# Create your connection.\n",
    "cnx = sqlite3.connect('test.db')\n",
    "#load database to Pandas Data frame 'df'\n",
    "df = pd.read_sql_query(\"SELECT * FROM arxiv_cs_publications\", cnx)"
   ]
  },
  {
   "cell_type": "code",
   "execution_count": 28,
   "metadata": {},
   "outputs": [],
   "source": [
    "#Database Schema\n",
    "#+---------------------+       \n",
    "#|arxiv_cs_publications|       \n",
    "#-----------------------       \n",
    "#|publication_id(pk)   |       \n",
    "#|title                |       \n",
    "#|description          |       \n",
    "#|subject              |       \n",
    "#|version              |       \n",
    "#|created_date         |       \n",
    "#+---------------------+\n",
    "\n",
    "#Article Link = \"https://arxiv.org/abs/\" + version\n",
    "#Article PDF  = \"https://arxiv.org/pdf/\" + version"
   ]
  },
  {
   "cell_type": "code",
   "execution_count": 31,
   "metadata": {},
   "outputs": [
    {
     "data": {
      "text/plain": [
       "publication_id    425\n",
       "title             425\n",
       "description       425\n",
       "subject           425\n",
       "version           425\n",
       "created_date      425\n",
       "dtype: int64"
      ]
     },
     "execution_count": 31,
     "metadata": {},
     "output_type": "execute_result"
    }
   ],
   "source": [
    "df.count()"
   ]
  },
  {
   "cell_type": "code",
   "execution_count": 32,
   "metadata": {},
   "outputs": [
    {
     "name": "stdout",
     "output_type": "stream",
     "text": [
      "<class 'pandas.core.frame.DataFrame'>\n",
      "RangeIndex: 425 entries, 0 to 424\n",
      "Data columns (total 6 columns):\n",
      "publication_id    425 non-null int64\n",
      "title             425 non-null object\n",
      "description       425 non-null object\n",
      "subject           425 non-null object\n",
      "version           425 non-null object\n",
      "created_date      425 non-null object\n",
      "dtypes: int64(1), object(5)\n",
      "memory usage: 20.0+ KB\n"
     ]
    }
   ],
   "source": [
    "df.info()"
   ]
  },
  {
   "cell_type": "code",
   "execution_count": 30,
   "metadata": {},
   "outputs": [
    {
     "data": {
      "text/html": [
       "<div>\n",
       "<style scoped>\n",
       "    .dataframe tbody tr th:only-of-type {\n",
       "        vertical-align: middle;\n",
       "    }\n",
       "\n",
       "    .dataframe tbody tr th {\n",
       "        vertical-align: top;\n",
       "    }\n",
       "\n",
       "    .dataframe thead th {\n",
       "        text-align: right;\n",
       "    }\n",
       "</style>\n",
       "<table border=\"1\" class=\"dataframe\">\n",
       "  <thead>\n",
       "    <tr style=\"text-align: right;\">\n",
       "      <th></th>\n",
       "      <th>publication_id</th>\n",
       "      <th>title</th>\n",
       "      <th>description</th>\n",
       "      <th>subject</th>\n",
       "      <th>version</th>\n",
       "      <th>created_date</th>\n",
       "    </tr>\n",
       "  </thead>\n",
       "  <tbody>\n",
       "    <tr>\n",
       "      <th>0</th>\n",
       "      <td>1</td>\n",
       "      <td>Efficient energy, cost reduction, and QoS base...</td>\n",
       "      <td>Recent developments and widespread in wireless...</td>\n",
       "      <td>cs.NI</td>\n",
       "      <td>1903.09636v1</td>\n",
       "      <td>2019-03-26 18:32:52.456428</td>\n",
       "    </tr>\n",
       "    <tr>\n",
       "      <th>1</th>\n",
       "      <td>2</td>\n",
       "      <td>Understanding Childhood Vulnerability in The C...</td>\n",
       "      <td>Understanding the community conditions that be...</td>\n",
       "      <td>cs.CY</td>\n",
       "      <td>1903.09639v1</td>\n",
       "      <td>2019-03-26 18:32:52.480675</td>\n",
       "    </tr>\n",
       "    <tr>\n",
       "      <th>2</th>\n",
       "      <td>3</td>\n",
       "      <td>Jet grooming through reinforcement learning.</td>\n",
       "      <td>We introduce a novel implementation of a reinf...</td>\n",
       "      <td>hep-ph</td>\n",
       "      <td>1903.09644v1</td>\n",
       "      <td>2019-03-26 18:32:52.505521</td>\n",
       "    </tr>\n",
       "    <tr>\n",
       "      <th>3</th>\n",
       "      <td>4</td>\n",
       "      <td>Anti-Turing Machine.</td>\n",
       "      <td>The invention of CPU-centric computing paradig...</td>\n",
       "      <td>cs.OH</td>\n",
       "      <td>1903.09653v1</td>\n",
       "      <td>2019-03-26 18:32:52.526601</td>\n",
       "    </tr>\n",
       "    <tr>\n",
       "      <th>4</th>\n",
       "      <td>5</td>\n",
       "      <td>A Hybrid Approach to Persistent Coverage in St...</td>\n",
       "      <td>This paper considers the persistent coverage o...</td>\n",
       "      <td>cs.MA</td>\n",
       "      <td>1903.09658v1</td>\n",
       "      <td>2019-03-26 18:32:52.545617</td>\n",
       "    </tr>\n",
       "  </tbody>\n",
       "</table>\n",
       "</div>"
      ],
      "text/plain": [
       "   publication_id                                              title  \\\n",
       "0               1  Efficient energy, cost reduction, and QoS base...   \n",
       "1               2  Understanding Childhood Vulnerability in The C...   \n",
       "2               3      Jet grooming through reinforcement learning.    \n",
       "3               4                              Anti-Turing Machine.    \n",
       "4               5  A Hybrid Approach to Persistent Coverage in St...   \n",
       "\n",
       "                                         description subject        version  \\\n",
       "0  Recent developments and widespread in wireless...   cs.NI  1903.09636v1    \n",
       "1  Understanding the community conditions that be...   cs.CY  1903.09639v1    \n",
       "2  We introduce a novel implementation of a reinf...  hep-ph  1903.09644v1    \n",
       "3  The invention of CPU-centric computing paradig...   cs.OH  1903.09653v1    \n",
       "4  This paper considers the persistent coverage o...   cs.MA  1903.09658v1    \n",
       "\n",
       "                 created_date  \n",
       "0  2019-03-26 18:32:52.456428  \n",
       "1  2019-03-26 18:32:52.480675  \n",
       "2  2019-03-26 18:32:52.505521  \n",
       "3  2019-03-26 18:32:52.526601  \n",
       "4  2019-03-26 18:32:52.545617  "
      ]
     },
     "execution_count": 30,
     "metadata": {},
     "output_type": "execute_result"
    }
   ],
   "source": [
    "df.head()"
   ]
  },
  {
   "cell_type": "code",
   "execution_count": 122,
   "metadata": {},
   "outputs": [],
   "source": [
    "#count the number of words in each publication description \n",
    "df['total_words'] = df['description'].str.split().str.len()"
   ]
  },
  {
   "cell_type": "code",
   "execution_count": 123,
   "metadata": {
    "scrolled": true
   },
   "outputs": [
    {
     "name": "stderr",
     "output_type": "stream",
     "text": [
      "[nltk_data] Downloading package stopwords to /root/nltk_data...\n",
      "[nltk_data]   Package stopwords is already up-to-date!\n"
     ]
    },
    {
     "data": {
      "text/html": [
       "<div>\n",
       "<style scoped>\n",
       "    .dataframe tbody tr th:only-of-type {\n",
       "        vertical-align: middle;\n",
       "    }\n",
       "\n",
       "    .dataframe tbody tr th {\n",
       "        vertical-align: top;\n",
       "    }\n",
       "\n",
       "    .dataframe thead th {\n",
       "        text-align: right;\n",
       "    }\n",
       "</style>\n",
       "<table border=\"1\" class=\"dataframe\">\n",
       "  <thead>\n",
       "    <tr style=\"text-align: right;\">\n",
       "      <th></th>\n",
       "      <th>description</th>\n",
       "      <th>stopwords</th>\n",
       "      <th>total_words</th>\n",
       "      <th>words_minus_stopwords</th>\n",
       "    </tr>\n",
       "  </thead>\n",
       "  <tbody>\n",
       "    <tr>\n",
       "      <th>0</th>\n",
       "      <td>Mobile robots that manipulate their environmen...</td>\n",
       "      <td>44</td>\n",
       "      <td>136</td>\n",
       "      <td>92</td>\n",
       "    </tr>\n",
       "    <tr>\n",
       "      <th>1</th>\n",
       "      <td>Multi-task learning, as it is understood nowad...</td>\n",
       "      <td>65</td>\n",
       "      <td>180</td>\n",
       "      <td>115</td>\n",
       "    </tr>\n",
       "    <tr>\n",
       "      <th>2</th>\n",
       "      <td>Well established libraries typically have API ...</td>\n",
       "      <td>106</td>\n",
       "      <td>288</td>\n",
       "      <td>182</td>\n",
       "    </tr>\n",
       "    <tr>\n",
       "      <th>3</th>\n",
       "      <td>An equiangular tight frame (ETF) is a sequence...</td>\n",
       "      <td>83</td>\n",
       "      <td>213</td>\n",
       "      <td>130</td>\n",
       "    </tr>\n",
       "    <tr>\n",
       "      <th>4</th>\n",
       "      <td>We present a coarse-to-fine approach based sem...</td>\n",
       "      <td>45</td>\n",
       "      <td>158</td>\n",
       "      <td>113</td>\n",
       "    </tr>\n",
       "  </tbody>\n",
       "</table>\n",
       "</div>"
      ],
      "text/plain": [
       "                                         description  stopwords  total_words  \\\n",
       "0  Mobile robots that manipulate their environmen...         44          136   \n",
       "1  Multi-task learning, as it is understood nowad...         65          180   \n",
       "2  Well established libraries typically have API ...        106          288   \n",
       "3  An equiangular tight frame (ETF) is a sequence...         83          213   \n",
       "4  We present a coarse-to-fine approach based sem...         45          158   \n",
       "\n",
       "   words_minus_stopwords  \n",
       "0                     92  \n",
       "1                    115  \n",
       "2                    182  \n",
       "3                    130  \n",
       "4                    113  "
      ]
     },
     "execution_count": 123,
     "metadata": {},
     "output_type": "execute_result"
    }
   ],
   "source": [
    "#Get the number of stop words per description \n",
    "#In natural language processing, useless words (data), are referred to as stop words. \n",
    "#Stop Words: A stop word is a commonly used word (such as “the”, “a”, “an”, “in”)\n",
    "import nltk\n",
    "nltk.download('stopwords')\n",
    "\n",
    "from nltk.corpus import stopwords\n",
    "stop = stopwords.words('english')\n",
    "\n",
    "df['stopwords'] = df['description'].apply(lambda x: len([x for x in x.split() if x in stop]))\n",
    "\n",
    "df['words_minus_stopwords'] = df[\"total_words\"] - df[\"stopwords\"]\n",
    "\n",
    "df[['description','stopwords','total_words','words_minus_stopwords']].head()"
   ]
  },
  {
   "cell_type": "code",
   "execution_count": 124,
   "metadata": {},
   "outputs": [
    {
     "data": {
      "text/plain": [
       "0    mobile robots that manipulate their environmen...\n",
       "1    multi-task learning, as it is understood nowad...\n",
       "2    well established libraries typically have api ...\n",
       "3    an equiangular tight frame (etf) is a sequence...\n",
       "4    we present a coarse-to-fine approach based sem...\n",
       "Name: description, dtype: object"
      ]
     },
     "execution_count": 124,
     "metadata": {},
     "output_type": "execute_result"
    }
   ],
   "source": [
    "#All words to lower case\n",
    "df['description'] = df['description'].apply(lambda x: \" \".join(x.lower() for x in x.split()))\n",
    "df['description'].head()"
   ]
  },
  {
   "cell_type": "code",
   "execution_count": 125,
   "metadata": {},
   "outputs": [
    {
     "data": {
      "text/plain": [
       "0    mobile robots that manipulate their environmen...\n",
       "1    multitask learning as it is understood nowaday...\n",
       "2    well established libraries typically have api ...\n",
       "3    an equiangular tight frame etf is a sequence o...\n",
       "4    we present a coarsetofine approach based semia...\n",
       "Name: description, dtype: object"
      ]
     },
     "execution_count": 125,
     "metadata": {},
     "output_type": "execute_result"
    }
   ],
   "source": [
    "#Remove punctuation\n",
    "df['description'] = df['description'].str.replace('[^\\w\\s]','')\n",
    "df['description'].head()"
   ]
  },
  {
   "cell_type": "code",
   "execution_count": 126,
   "metadata": {},
   "outputs": [
    {
     "data": {
      "text/plain": [
       "0    mobile robots manipulate environments require ...\n",
       "1    multitask learning understood nowadays consist...\n",
       "2    well established libraries typically api docum...\n",
       "3    equiangular tight frame etf sequence unitnorm ...\n",
       "4    present coarsetofine approach based semiautono...\n",
       "Name: description, dtype: object"
      ]
     },
     "execution_count": 126,
     "metadata": {},
     "output_type": "execute_result"
    }
   ],
   "source": [
    "#Remove Stop words\n",
    "df['description'] = df['description'].apply(lambda x: \" \".join(x for x in x.split() if x not in stop))\n",
    "df['description'].head()\n"
   ]
  },
  {
   "cell_type": "code",
   "execution_count": 127,
   "metadata": {},
   "outputs": [
    {
     "name": "stdout",
     "output_type": "stream",
     "text": [
      "data           176\n",
      "learning       160\n",
      "model          144\n",
      "paper          128\n",
      "performance    125\n",
      "proposed       112\n",
      "using          110\n",
      "show           107\n",
      "network        106\n",
      "problem        102\n",
      "dtype: int64\n"
     ]
    },
    {
     "data": {
      "text/plain": [
       "0    mobile robots manipulate environments require ...\n",
       "1    multitask understood nowadays consists one sin...\n",
       "2    well established libraries typically api docum...\n",
       "3    equiangular tight frame etf sequence unitnorm ...\n",
       "4    present coarsetofine approach based semiautono...\n",
       "Name: description, dtype: object"
      ]
     },
     "execution_count": 127,
     "metadata": {},
     "output_type": "execute_result"
    }
   ],
   "source": [
    "#Top Ten most Frequent Words\n",
    "freq = pd.Series(' '.join(df['description']).split()).value_counts()[:10]\n",
    "print(freq)\n",
    "#Remove top ten most frequent words\n",
    "freq = list(freq.index)\n",
    "df['description'] = df['description'].apply(lambda x: \" \".join(x for x in x.split() if x not in freq))\n",
    "df['description'].head()"
   ]
  },
  {
   "cell_type": "code",
   "execution_count": 130,
   "metadata": {},
   "outputs": [
    {
     "data": {
      "text/plain": [
       "0      [mobile, robots, manipulate, environments, req...\n",
       "1      [multitask, understood, nowadays, consists, on...\n",
       "2      [well, established, libraries, typically, api,...\n",
       "3      [equiangular, tight, frame, etf, sequence, uni...\n",
       "4      [present, coarsetofine, approach, based, semia...\n",
       "5      [image, understanding, relies, heavily, accura...\n",
       "6      [consuming, news, social, media, becoming, inc...\n",
       "7      [new, deep, based, dense, monocular, slam, met...\n",
       "8      [polar, codes, gained, extensive, attention, p...\n",
       "9      [propose, use, agent, based, models, abms, ins...\n",
       "10     [structure, time, series, particular, cyclosta...\n",
       "11     [propose, unified, framework, multiperson, pos...\n",
       "12     [well, estimate, probability, classification, ...\n",
       "13     [introduce, novel, observability, continuum, e...\n",
       "14     [giving, provable, guarantees, neural, network...\n",
       "15     [present, skelneton, 2019, challenge, deep, ge...\n",
       "16     [consider, em, mixed, linear, regression, mlr,...\n",
       "17     [work, tackles, fuzzy, joining, strings, natur...\n",
       "18     [multidomain, mdl, aims, obtaining, minimal, a...\n",
       "19     [glioma, constitutes, 80, malignant, primary, ...\n",
       "20     [exchange, involves, source, schema, target, s...\n",
       "21     [speed, accuracy, robots, able, interpret, nat...\n",
       "22     [computer, vision, virtually, every, state, ar...\n",
       "23     [dtw, calculates, similarity, alignment, two, ...\n",
       "24     [plays, important, role, applications, analyti...\n",
       "25     [urban, traffic, optimization, traffic, camera...\n",
       "26     [propose, distributed, offpolicy, actor, criti...\n",
       "27     [distributed, gathering, algorithms, aim, achi...\n",
       "28     [propose, 2d, encoderdecoder, based, deep, arc...\n",
       "29     [propose, approach, obtain, reducedorder, mode...\n",
       "                             ...                        \n",
       "206    [success, convolutional, neural, networks, cnn...\n",
       "207    [rapid, development, digital, information, vol...\n",
       "208    [people, desire, connected, matter, recently, ...\n",
       "209    [study, quantum, classical, transition, bosons...\n",
       "210    [study, sparse, regression, methods, propose, ...\n",
       "211    [much, effort, devoted, last, two, decades, ch...\n",
       "212    [presents, bigearthnet, new, largescale, multi...\n",
       "213    [presents, novel, framework, jointly, exploits...\n",
       "214    [accurate, cell, counting, microscopic, images...\n",
       "215    [study, online, graph, exploration, undirected...\n",
       "216    [recent, research, superresolution, achieved, ...\n",
       "217    [accurately, counting, cells, microscopic, ima...\n",
       "218    [primary, objective, softmax, cross, entropy, ...\n",
       "219    [theory, quantum, cryptography, aims, guarante...\n",
       "220    [appears, insatiable, desire, spawning, new, b...\n",
       "221    [complex, processes, various, events, happen, ...\n",
       "222    [pedestrian, detection, essential, task, auton...\n",
       "223    [given, latency, variability, observed, center...\n",
       "224    [work, formulate, process, generating, explana...\n",
       "225    [alzheimers, disease, ad, common, neurodegener...\n",
       "226    [survey, concerns, sensor, fusion, predictive,...\n",
       "227    [defending, distributed, denial, service, ddos...\n",
       "228    [nanoscale, communications, must, cooperation,...\n",
       "229    [present, explainit, declarative, unsupervised...\n",
       "230    [investigate, problems, class, imbalance, irre...\n",
       "231    [continual, ability, agent, learn, online, non...\n",
       "232    [deep, bayesian, neural, aroused, great, atten...\n",
       "233    [moment, autonomous, cars, probably, biggest, ...\n",
       "234    [investigate, avoidability, unary, patterns, s...\n",
       "235    [aim, discuss, advanced, aspects, image, recon...\n",
       "Name: description, Length: 236, dtype: object"
      ]
     },
     "execution_count": 130,
     "metadata": {},
     "output_type": "execute_result"
    }
   ],
   "source": [
    "#Tokenize \n",
    "df['description'].str.split()"
   ]
  },
  {
   "cell_type": "code",
   "execution_count": null,
   "metadata": {},
   "outputs": [],
   "source": []
  },
  {
   "cell_type": "code",
   "execution_count": null,
   "metadata": {},
   "outputs": [],
   "source": []
  },
  {
   "cell_type": "code",
   "execution_count": null,
   "metadata": {},
   "outputs": [],
   "source": []
  }
 ],
 "metadata": {
  "kernelspec": {
   "display_name": "Python 3",
   "language": "python",
   "name": "python3"
  },
  "language_info": {
   "codemirror_mode": {
    "name": "ipython",
    "version": 3
   },
   "file_extension": ".py",
   "mimetype": "text/x-python",
   "name": "python",
   "nbconvert_exporter": "python",
   "pygments_lexer": "ipython3",
   "version": "3.7.1"
  }
 },
 "nbformat": 4,
 "nbformat_minor": 2
}
